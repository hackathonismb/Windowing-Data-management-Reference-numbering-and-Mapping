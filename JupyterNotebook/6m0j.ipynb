https://structure.ncbi.nlm.nih.gov/icn3d/full.html?divid=div0&mmtfid=2por&command=symmetry+C3+(global)%7C%7C%7C%7B%22factor%22:1,%22mouseChange%22:%7B%22x%22:0,%22y%22:0%7D,%22quaternion%22:%7B%22_x%22:%220.15482%22,%22_y%22:%22-0.082833%22,%22_z%22:%220.057689%22,%22_w%22:%220.98277%22%7D%7D

https://structure.ncbi.nlm.nih.gov/icn3d/full.html?divid=div0&mmtfid=2por&command=symmetry+C3+(global)%7C%7C%7C%7B%22factor%22:1,%22mouseChange%22:%7B%22x%22:0,%22y%22:0%7D,%22quaternion%22:%7B%22_x%22:%220.15482%22,%22_y%22:%22-0.082833%22,%22_z%22:%220.057689%22,%22_w%22:%220.98277%22%7D%7D

https://www.ncbi.nlm.nih.gov/Structure/icn3d/full.html?divid=div0&mmdbid=1kq2&command=symmetry+C6+(global)%7C%7C%7C%7B%22factor%22:%221.1255%22,%22mouseChange%22:%7B%22x%22:0,%22y%22:0%7D,%22quaternion%22:%7B%22_x%22:0,%22_y%22:%22-0.0087265%22,%22_z%22:0,%22_w%22:%220.99996%22%7D%7D&random=952
